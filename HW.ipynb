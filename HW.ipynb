{
 "cells": [
  {
   "cell_type": "code",
   "execution_count": 1,
   "id": "a3892e24-dc77-402b-905a-00556cf12e84",
   "metadata": {},
   "outputs": [],
   "source": [
    "import fasttext\n",
    "import pandas as pd\n",
    "import numpy as np\n",
    "import re\n",
    "\n",
    "import warnings\n",
    "warnings.filterwarnings(\"ignore\")\n",
    "\n",
    "pd.set_option('display.float_format', '{:,.8f}'.format)\n",
    "pd.set_option('display.min_rows', 6)\n",
    "pd.set_option('display.max_rows', 500)\n",
    "pd.set_option('display.max_columns', 500)"
   ]
  },
  {
   "cell_type": "markdown",
   "id": "392d98d9-cf73-49ac-a60f-14427e6f0767",
   "metadata": {},
   "source": [
    "##### Обучим модель для классификации чеков. В качестве разметки возьмем каталог wildberries.\n"
   ]
  },
  {
   "cell_type": "code",
   "execution_count": 2,
   "id": "cdf64002-6056-412e-9936-22ca19793cec",
   "metadata": {},
   "outputs": [],
   "source": [
    "wb = pd.read_parquet('./WB.parquet')"
   ]
  },
  {
   "cell_type": "code",
   "execution_count": 3,
   "id": "443c4b47-5741-4030-a93f-3a9cf4d7d571",
   "metadata": {},
   "outputs": [
    {
     "name": "stdout",
     "output_type": "stream",
     "text": [
      "<class 'pandas.core.frame.DataFrame'>\n",
      "Index: 4921161 entries, 0 to 4929045\n",
      "Data columns (total 8 columns):\n",
      " #   Column      Dtype \n",
      "---  ------      ----- \n",
      " 0   category_1  object\n",
      " 1   category_2  object\n",
      " 2   category_3  object\n",
      " 3   category_4  object\n",
      " 4   category_5  object\n",
      " 5   name        object\n",
      " 6   brand       object\n",
      " 7   supplier    object\n",
      "dtypes: object(8)\n",
      "memory usage: 337.9+ MB\n"
     ]
    }
   ],
   "source": [
    "wb.info()"
   ]
  },
  {
   "cell_type": "code",
   "execution_count": 4,
   "id": "3b2c1c58-336d-46c3-8fc8-d47b0a250a7b",
   "metadata": {},
   "outputs": [
    {
     "data": {
      "text/html": [
       "<div>\n",
       "<style scoped>\n",
       "    .dataframe tbody tr th:only-of-type {\n",
       "        vertical-align: middle;\n",
       "    }\n",
       "\n",
       "    .dataframe tbody tr th {\n",
       "        vertical-align: top;\n",
       "    }\n",
       "\n",
       "    .dataframe thead th {\n",
       "        text-align: right;\n",
       "    }\n",
       "</style>\n",
       "<table border=\"1\" class=\"dataframe\">\n",
       "  <thead>\n",
       "    <tr style=\"text-align: right;\">\n",
       "      <th></th>\n",
       "      <th>category_1</th>\n",
       "      <th>category_2</th>\n",
       "      <th>category_3</th>\n",
       "      <th>category_4</th>\n",
       "      <th>category_5</th>\n",
       "      <th>name</th>\n",
       "      <th>brand</th>\n",
       "      <th>supplier</th>\n",
       "    </tr>\n",
       "    <tr>\n",
       "      <th>index</th>\n",
       "      <th></th>\n",
       "      <th></th>\n",
       "      <th></th>\n",
       "      <th></th>\n",
       "      <th></th>\n",
       "      <th></th>\n",
       "      <th></th>\n",
       "      <th></th>\n",
       "    </tr>\n",
       "  </thead>\n",
       "  <tbody>\n",
       "    <tr>\n",
       "      <th>3560025</th>\n",
       "      <td>Спорт</td>\n",
       "      <td>Единоборства</td>\n",
       "      <td>ММА</td>\n",
       "      <td>None</td>\n",
       "      <td>None</td>\n",
       "      <td>Рашгард футболка с коротким рукавом для единоб...</td>\n",
       "      <td>Cody Lundin</td>\n",
       "      <td>СПОРТ</td>\n",
       "    </tr>\n",
       "    <tr>\n",
       "      <th>1567422</th>\n",
       "      <td>Дом</td>\n",
       "      <td>Отдых на природе</td>\n",
       "      <td>Мангалы и коптильни</td>\n",
       "      <td>None</td>\n",
       "      <td>None</td>\n",
       "      <td>Шампура с деревянной ручкой набор для шашлыка ...</td>\n",
       "      <td>ШАМПУР-ЮГ</td>\n",
       "      <td>ШАМПУР-ЮГ</td>\n",
       "    </tr>\n",
       "    <tr>\n",
       "      <th>1672367</th>\n",
       "      <td>Дом</td>\n",
       "      <td>Хозяйственные товары</td>\n",
       "      <td>Товары для уборки</td>\n",
       "      <td>Чистящие средства</td>\n",
       "      <td>None</td>\n",
       "      <td>Чистящие средства для стеклокерамики AZELIT 0,6кг</td>\n",
       "      <td>GRASS</td>\n",
       "      <td>Белвес</td>\n",
       "    </tr>\n",
       "    <tr>\n",
       "      <th>816364</th>\n",
       "      <td>Мужчинам</td>\n",
       "      <td>Подарки мужчинам</td>\n",
       "      <td>Белье</td>\n",
       "      <td>None</td>\n",
       "      <td>None</td>\n",
       "      <td>Носки цветные с принтом и рисунком</td>\n",
       "      <td>MarusyaSocks</td>\n",
       "      <td>MARUSYA прикольные носки с принтами для всей с...</td>\n",
       "    </tr>\n",
       "    <tr>\n",
       "      <th>4387364</th>\n",
       "      <td>Для ремонта</td>\n",
       "      <td>Лакокрасочные материалы</td>\n",
       "      <td>Покрытия для дерева</td>\n",
       "      <td>None</td>\n",
       "      <td>None</td>\n",
       "      <td>Масло для дерева Deco Oil Terrace ОрехГварнери...</td>\n",
       "      <td>Kraskovar</td>\n",
       "      <td>ЛидерГрупп Строй</td>\n",
       "    </tr>\n",
       "  </tbody>\n",
       "</table>\n",
       "</div>"
      ],
      "text/plain": [
       "          category_1               category_2           category_3  \\\n",
       "index                                                                \n",
       "3560025        Спорт             Единоборства                  ММА   \n",
       "1567422          Дом         Отдых на природе  Мангалы и коптильни   \n",
       "1672367          Дом     Хозяйственные товары    Товары для уборки   \n",
       "816364      Мужчинам         Подарки мужчинам                Белье   \n",
       "4387364  Для ремонта  Лакокрасочные материалы  Покрытия для дерева   \n",
       "\n",
       "                category_4 category_5  \\\n",
       "index                                   \n",
       "3560025               None       None   \n",
       "1567422               None       None   \n",
       "1672367  Чистящие средства       None   \n",
       "816364                None       None   \n",
       "4387364               None       None   \n",
       "\n",
       "                                                      name         brand  \\\n",
       "index                                                                      \n",
       "3560025  Рашгард футболка с коротким рукавом для единоб...   Cody Lundin   \n",
       "1567422  Шампура с деревянной ручкой набор для шашлыка ...     ШАМПУР-ЮГ   \n",
       "1672367  Чистящие средства для стеклокерамики AZELIT 0,6кг         GRASS   \n",
       "816364                  Носки цветные с принтом и рисунком  MarusyaSocks   \n",
       "4387364  Масло для дерева Deco Oil Terrace ОрехГварнери...     Kraskovar   \n",
       "\n",
       "                                                  supplier  \n",
       "index                                                       \n",
       "3560025                                              СПОРТ  \n",
       "1567422                                          ШАМПУР-ЮГ  \n",
       "1672367                                             Белвес  \n",
       "816364   MARUSYA прикольные носки с принтами для всей с...  \n",
       "4387364                                   ЛидерГрупп Строй  "
      ]
     },
     "execution_count": 4,
     "metadata": {},
     "output_type": "execute_result"
    }
   ],
   "source": [
    "wb.sample(5)"
   ]
  },
  {
   "cell_type": "code",
   "execution_count": 5,
   "id": "e16a2c33-ec82-417f-978e-6da285e07e1e",
   "metadata": {
    "scrolled": true
   },
   "outputs": [
    {
     "data": {
      "text/plain": [
       "array(['Женщинам', 'Обувь', 'Детям', 'Мужчинам', 'Дом', 'Красота',\n",
       "       'Аксессуары', 'Электроника', 'Игрушки', 'Мебель',\n",
       "       'Товары для взрослых', 'Продукты', 'Бытовая техника', 'Зоотовары',\n",
       "       'Спорт', 'Автотовары', 'Транспортные средства', 'Книги',\n",
       "       'Ювелирные изделия', 'Для ремонта', 'Сад и дача', 'Здоровье',\n",
       "       'Канцтовары', 'Культурный код'], dtype=object)"
      ]
     },
     "execution_count": 5,
     "metadata": {},
     "output_type": "execute_result"
    }
   ],
   "source": [
    "wb['category_1'].unique()"
   ]
  },
  {
   "cell_type": "code",
   "execution_count": 6,
   "id": "9605cb2a-b888-4907-b3d2-3183530c15d3",
   "metadata": {},
   "outputs": [],
   "source": [
    "# Немного подкорректируем разметку\n",
    "wb['category_1'][wb['category_1'].isin(['Женщинам', 'Мужчинам'])] = 'Одежда'"
   ]
  },
  {
   "cell_type": "code",
   "execution_count": 7,
   "id": "c78e85c2-3a46-4e56-99b6-18afc2d4f181",
   "metadata": {},
   "outputs": [],
   "source": [
    "train_ds = wb[['category_1', 'name']]\n",
    "train_ds = train_ds.drop_duplicates()"
   ]
  },
  {
   "cell_type": "code",
   "execution_count": 8,
   "id": "e2f0f164-41b7-49f5-a20c-24079420f221",
   "metadata": {},
   "outputs": [
    {
     "data": {
      "text/html": [
       "<div>\n",
       "<style scoped>\n",
       "    .dataframe tbody tr th:only-of-type {\n",
       "        vertical-align: middle;\n",
       "    }\n",
       "\n",
       "    .dataframe tbody tr th {\n",
       "        vertical-align: top;\n",
       "    }\n",
       "\n",
       "    .dataframe thead th {\n",
       "        text-align: right;\n",
       "    }\n",
       "</style>\n",
       "<table border=\"1\" class=\"dataframe\">\n",
       "  <thead>\n",
       "    <tr style=\"text-align: right;\">\n",
       "      <th></th>\n",
       "      <th>category_1</th>\n",
       "      <th>name</th>\n",
       "    </tr>\n",
       "    <tr>\n",
       "      <th>index</th>\n",
       "      <th></th>\n",
       "      <th></th>\n",
       "    </tr>\n",
       "  </thead>\n",
       "  <tbody>\n",
       "    <tr>\n",
       "      <th>3886312</th>\n",
       "      <td>Автотовары</td>\n",
       "      <td>Ручка КПП в стиле Весты ВАЗ-2108-21099</td>\n",
       "    </tr>\n",
       "    <tr>\n",
       "      <th>3507358</th>\n",
       "      <td>Спорт</td>\n",
       "      <td>Сывороточный протеин Ultra Whey 300г - Фисташк...</td>\n",
       "    </tr>\n",
       "    <tr>\n",
       "      <th>2763833</th>\n",
       "      <td>Мебель</td>\n",
       "      <td>Кронштейны для полки \"Элимет\" 220 мм, цвет бел...</td>\n",
       "    </tr>\n",
       "    <tr>\n",
       "      <th>4357519</th>\n",
       "      <td>Для ремонта</td>\n",
       "      <td>Изолятор для монтажа ретро проводки, цвет песо...</td>\n",
       "    </tr>\n",
       "    <tr>\n",
       "      <th>1831005</th>\n",
       "      <td>Красота</td>\n",
       "      <td>Помада для губ матовая жидкая увлажняющая № 03</td>\n",
       "    </tr>\n",
       "  </tbody>\n",
       "</table>\n",
       "</div>"
      ],
      "text/plain": [
       "          category_1                                               name\n",
       "index                                                                  \n",
       "3886312   Автотовары             Ручка КПП в стиле Весты ВАЗ-2108-21099\n",
       "3507358        Спорт  Сывороточный протеин Ultra Whey 300г - Фисташк...\n",
       "2763833       Мебель  Кронштейны для полки \"Элимет\" 220 мм, цвет бел...\n",
       "4357519  Для ремонта  Изолятор для монтажа ретро проводки, цвет песо...\n",
       "1831005      Красота     Помада для губ матовая жидкая увлажняющая № 03"
      ]
     },
     "execution_count": 8,
     "metadata": {},
     "output_type": "execute_result"
    }
   ],
   "source": [
    "train_ds.sample(5)"
   ]
  },
  {
   "cell_type": "code",
   "execution_count": 9,
   "id": "29201de5-0f6f-4507-894d-7c7fcc3b712b",
   "metadata": {},
   "outputs": [],
   "source": [
    "# уберем ненужные данные из имен\n",
    "train_ds['name'] = train_ds['name'].str.lower()\n",
    "train_ds['name'] = train_ds['name'].str.replace('[^a-zа-яё]+', ' ', regex=True, flags=re.IGNORECASE)\n",
    "train_ds['name'] = train_ds['name'].str.replace(r'\\b[a-zа-яё]{,2}\\b', '', regex=True, flags=re.IGNORECASE)\n",
    "train_ds['name'] = train_ds['name'].str.replace(' {2,}', ' ', regex=True, flags=re.IGNORECASE)\n",
    "train_ds['name'] = train_ds['name'].str.strip()"
   ]
  },
  {
   "cell_type": "code",
   "execution_count": 10,
   "id": "3c2d7fc3-a447-4253-a64c-e8320a3f4cbb",
   "metadata": {},
   "outputs": [
    {
     "data": {
      "text/html": [
       "<div>\n",
       "<style scoped>\n",
       "    .dataframe tbody tr th:only-of-type {\n",
       "        vertical-align: middle;\n",
       "    }\n",
       "\n",
       "    .dataframe tbody tr th {\n",
       "        vertical-align: top;\n",
       "    }\n",
       "\n",
       "    .dataframe thead th {\n",
       "        text-align: right;\n",
       "    }\n",
       "</style>\n",
       "<table border=\"1\" class=\"dataframe\">\n",
       "  <thead>\n",
       "    <tr style=\"text-align: right;\">\n",
       "      <th></th>\n",
       "      <th>category_1</th>\n",
       "      <th>name</th>\n",
       "    </tr>\n",
       "    <tr>\n",
       "      <th>index</th>\n",
       "      <th></th>\n",
       "      <th></th>\n",
       "    </tr>\n",
       "  </thead>\n",
       "  <tbody>\n",
       "    <tr>\n",
       "      <th>408552</th>\n",
       "      <td>Обувь</td>\n",
       "      <td>сумка для обуви молнии</td>\n",
       "    </tr>\n",
       "    <tr>\n",
       "      <th>4324460</th>\n",
       "      <td>Для ремонта</td>\n",
       "      <td>перчатки рабочие строительные нитей пвх</td>\n",
       "    </tr>\n",
       "    <tr>\n",
       "      <th>4906984</th>\n",
       "      <td>Канцтовары</td>\n",
       "      <td>бумага цветная листов пастель зелёная</td>\n",
       "    </tr>\n",
       "    <tr>\n",
       "      <th>4751461</th>\n",
       "      <td>Сад и дача</td>\n",
       "      <td>садовая мебель комплект для дачи</td>\n",
       "    </tr>\n",
       "    <tr>\n",
       "      <th>4914601</th>\n",
       "      <td>Канцтовары</td>\n",
       "      <td>электрическая точилка для карандашей</td>\n",
       "    </tr>\n",
       "  </tbody>\n",
       "</table>\n",
       "</div>"
      ],
      "text/plain": [
       "          category_1                                     name\n",
       "index                                                        \n",
       "408552         Обувь                   сумка для обуви молнии\n",
       "4324460  Для ремонта  перчатки рабочие строительные нитей пвх\n",
       "4906984   Канцтовары    бумага цветная листов пастель зелёная\n",
       "4751461   Сад и дача         садовая мебель комплект для дачи\n",
       "4914601   Канцтовары     электрическая точилка для карандашей"
      ]
     },
     "execution_count": 10,
     "metadata": {},
     "output_type": "execute_result"
    }
   ],
   "source": [
    "train_ds.sample(5)"
   ]
  },
  {
   "cell_type": "code",
   "execution_count": 11,
   "id": "48529e4e-6ddd-4d07-887f-1410b687c6bd",
   "metadata": {},
   "outputs": [],
   "source": [
    "# создадим мепер\n",
    "mapper_ = train_ds['category_1'].drop_duplicates().sort_values().reset_index(drop=True).to_dict()\n",
    "mapper = {v: k for k, v in mapper_.items()}\n",
    "train_ds['label'] = train_ds['category_1'].map(mapper)"
   ]
  },
  {
   "cell_type": "code",
   "execution_count": 12,
   "id": "9787ceeb-cf3c-4b9e-a823-dcc9c715dd76",
   "metadata": {},
   "outputs": [],
   "source": [
    "# соберем строку для для датасета\n",
    "train_ds['train_row'] = '__label__' + train_ds['label'].astype(str) + ' ' + train_ds['name'] + '\\n'"
   ]
  },
  {
   "cell_type": "code",
   "execution_count": 13,
   "id": "72a19609-68e3-4340-929c-f5f0526e2d13",
   "metadata": {},
   "outputs": [
    {
     "data": {
      "text/html": [
       "<div>\n",
       "<style scoped>\n",
       "    .dataframe tbody tr th:only-of-type {\n",
       "        vertical-align: middle;\n",
       "    }\n",
       "\n",
       "    .dataframe tbody tr th {\n",
       "        vertical-align: top;\n",
       "    }\n",
       "\n",
       "    .dataframe thead th {\n",
       "        text-align: right;\n",
       "    }\n",
       "</style>\n",
       "<table border=\"1\" class=\"dataframe\">\n",
       "  <thead>\n",
       "    <tr style=\"text-align: right;\">\n",
       "      <th></th>\n",
       "      <th>category_1</th>\n",
       "      <th>name</th>\n",
       "      <th>label</th>\n",
       "      <th>train_row</th>\n",
       "    </tr>\n",
       "    <tr>\n",
       "      <th>index</th>\n",
       "      <th></th>\n",
       "      <th></th>\n",
       "      <th></th>\n",
       "      <th></th>\n",
       "    </tr>\n",
       "  </thead>\n",
       "  <tbody>\n",
       "    <tr>\n",
       "      <th>1999774</th>\n",
       "      <td>Красота</td>\n",
       "      <td>влажные салфетки детские штук</td>\n",
       "      <td>11</td>\n",
       "      <td>__label__11 влажные салфетки детские штук\\n</td>\n",
       "    </tr>\n",
       "    <tr>\n",
       "      <th>835197</th>\n",
       "      <td>Одежда</td>\n",
       "      <td>набор коллекционных монет года</td>\n",
       "      <td>15</td>\n",
       "      <td>__label__15 набор коллекционных монет года\\n</td>\n",
       "    </tr>\n",
       "    <tr>\n",
       "      <th>919325</th>\n",
       "      <td>Дом</td>\n",
       "      <td>кружка тебя всё получится</td>\n",
       "      <td>5</td>\n",
       "      <td>__label__5 кружка тебя всё получится\\n</td>\n",
       "    </tr>\n",
       "    <tr>\n",
       "      <th>2992574</th>\n",
       "      <td>Бытовая техника</td>\n",
       "      <td>насадки фен для волос supersonic super hair dryer</td>\n",
       "      <td>2</td>\n",
       "      <td>__label__2 насадки фен для волос supersonic su...</td>\n",
       "    </tr>\n",
       "    <tr>\n",
       "      <th>4802713</th>\n",
       "      <td>Здоровье</td>\n",
       "      <td>витамин капсул</td>\n",
       "      <td>6</td>\n",
       "      <td>__label__6 витамин капсул\\n</td>\n",
       "    </tr>\n",
       "  </tbody>\n",
       "</table>\n",
       "</div>"
      ],
      "text/plain": [
       "              category_1                                               name  \\\n",
       "index                                                                         \n",
       "1999774          Красота                      влажные салфетки детские штук   \n",
       "835197            Одежда                     набор коллекционных монет года   \n",
       "919325               Дом                          кружка тебя всё получится   \n",
       "2992574  Бытовая техника  насадки фен для волос supersonic super hair dryer   \n",
       "4802713         Здоровье                                     витамин капсул   \n",
       "\n",
       "         label                                          train_row  \n",
       "index                                                              \n",
       "1999774     11        __label__11 влажные салфетки детские штук\\n  \n",
       "835197      15       __label__15 набор коллекционных монет года\\n  \n",
       "919325       5             __label__5 кружка тебя всё получится\\n  \n",
       "2992574      2  __label__2 насадки фен для волос supersonic su...  \n",
       "4802713      6                        __label__6 витамин капсул\\n  "
      ]
     },
     "execution_count": 13,
     "metadata": {},
     "output_type": "execute_result"
    }
   ],
   "source": [
    "train_ds.sample(5)"
   ]
  },
  {
   "cell_type": "code",
   "execution_count": 14,
   "id": "9dd62f97-dd2f-46a2-934a-4dd2526aa824",
   "metadata": {},
   "outputs": [],
   "source": [
    "# перемешаем датасета\n",
    "train_ds = train_ds.sample(frac=1)"
   ]
  },
  {
   "cell_type": "code",
   "execution_count": 15,
   "id": "0e99d7bf-f50e-4a67-a4ee-f88cb828d929",
   "metadata": {},
   "outputs": [],
   "source": [
    "# запишем датасет\n",
    "with open('train_ds.txt', mode='w') as file:\n",
    "    file.writelines(train_ds['train_row'].values)"
   ]
  },
  {
   "cell_type": "code",
   "execution_count": 16,
   "id": "fab2254f-d7d9-4b40-9b09-18e1db5b03a4",
   "metadata": {},
   "outputs": [
    {
     "name": "stderr",
     "output_type": "stream",
     "text": [
      "Read 16M words\n",
      "Number of words:  273241\n",
      "Number of labels: 23\n",
      "Progress: 100.0% words/sec/thread:  642478 lr:  0.000000 avg.loss:  0.121366 ETA:   0h 0m 0s 65.3% words/sec/thread:  637659 lr:  0.173739 avg.loss:  0.156928 ETA:   0h 4m56s 73.7% words/sec/thread:  639004 lr:  0.131507 avg.loss:  0.145848 ETA:   0h 3m44s\n"
     ]
    }
   ],
   "source": [
    "# обучим модель\n",
    "model = fasttext.train_supervised(input='train_ds.txt', lr=0.5, dim=300, \n",
    "                          epoch=100, wordNgrams=3, loss='hs', bucket=5000000)"
   ]
  },
  {
   "cell_type": "code",
   "execution_count": 22,
   "id": "ded272ff-d0b3-492f-bde4-7f7324053bbc",
   "metadata": {},
   "outputs": [
    {
     "data": {
      "text/plain": [
       "(2483055, 0.9061426347785289, 0.9061426347785289)"
      ]
     },
     "execution_count": 22,
     "metadata": {},
     "output_type": "execute_result"
    }
   ],
   "source": [
    "model.test('train_ds.txt')"
   ]
  },
  {
   "cell_type": "code",
   "execution_count": 17,
   "id": "ab47bea3-939b-4d6d-80b9-bf253c097dde",
   "metadata": {},
   "outputs": [],
   "source": [
    "# Возьмем дата фрейм с чеками\n",
    "df = pd.read_csv('unsupervised_dataset.csv')"
   ]
  },
  {
   "cell_type": "code",
   "execution_count": 18,
   "id": "e3659883-074f-4d2a-8c50-798312cad3ef",
   "metadata": {},
   "outputs": [
    {
     "data": {
      "text/html": [
       "<div>\n",
       "<style scoped>\n",
       "    .dataframe tbody tr th:only-of-type {\n",
       "        vertical-align: middle;\n",
       "    }\n",
       "\n",
       "    .dataframe tbody tr th {\n",
       "        vertical-align: top;\n",
       "    }\n",
       "\n",
       "    .dataframe thead th {\n",
       "        text-align: right;\n",
       "    }\n",
       "</style>\n",
       "<table border=\"1\" class=\"dataframe\">\n",
       "  <thead>\n",
       "    <tr style=\"text-align: right;\">\n",
       "      <th></th>\n",
       "      <th>id</th>\n",
       "      <th>name</th>\n",
       "    </tr>\n",
       "  </thead>\n",
       "  <tbody>\n",
       "    <tr>\n",
       "      <th>0</th>\n",
       "      <td>0</td>\n",
       "      <td>Зубная щетка Орал Би Три эффект Деликатное отб...</td>\n",
       "    </tr>\n",
       "    <tr>\n",
       "      <th>1</th>\n",
       "      <td>1</td>\n",
       "      <td>салфетки VISTER влажные для ко</td>\n",
       "    </tr>\n",
       "    <tr>\n",
       "      <th>2</th>\n",
       "      <td>2</td>\n",
       "      <td>Платье женское DR8517K 7Л8999 Светло-серый 449...</td>\n",
       "    </tr>\n",
       "    <tr>\n",
       "      <th>3</th>\n",
       "      <td>3</td>\n",
       "      <td>ЛАКОМСТВО \"ДЕРЕВЕНСКИЕ ЛАКОМСТВА\" д/собак мини...</td>\n",
       "    </tr>\n",
       "    <tr>\n",
       "      <th>4</th>\n",
       "      <td>4</td>\n",
       "      <td>Суппорт гитарный Ergo Play Troster</td>\n",
       "    </tr>\n",
       "  </tbody>\n",
       "</table>\n",
       "</div>"
      ],
      "text/plain": [
       "   id                                               name\n",
       "0   0  Зубная щетка Орал Би Три эффект Деликатное отб...\n",
       "1   1                     салфетки VISTER влажные для ко\n",
       "2   2  Платье женское DR8517K 7Л8999 Светло-серый 449...\n",
       "3   3  ЛАКОМСТВО \"ДЕРЕВЕНСКИЕ ЛАКОМСТВА\" д/собак мини...\n",
       "4   4                 Суппорт гитарный Ergo Play Troster"
      ]
     },
     "execution_count": 18,
     "metadata": {},
     "output_type": "execute_result"
    }
   ],
   "source": [
    "df.head()"
   ]
  },
  {
   "cell_type": "code",
   "execution_count": 21,
   "id": "4bed858c-4bb4-4464-ade4-d3151748090d",
   "metadata": {},
   "outputs": [
    {
     "data": {
      "text/html": [
       "<div>\n",
       "<style scoped>\n",
       "    .dataframe tbody tr th:only-of-type {\n",
       "        vertical-align: middle;\n",
       "    }\n",
       "\n",
       "    .dataframe tbody tr th {\n",
       "        vertical-align: top;\n",
       "    }\n",
       "\n",
       "    .dataframe thead th {\n",
       "        text-align: right;\n",
       "    }\n",
       "</style>\n",
       "<table border=\"1\" class=\"dataframe\">\n",
       "  <thead>\n",
       "    <tr style=\"text-align: right;\">\n",
       "      <th></th>\n",
       "      <th>id</th>\n",
       "      <th>name</th>\n",
       "      <th>name_c</th>\n",
       "      <th>pred</th>\n",
       "    </tr>\n",
       "  </thead>\n",
       "  <tbody>\n",
       "    <tr>\n",
       "      <th>965619</th>\n",
       "      <td>965619</td>\n",
       "      <td>(БЛ) Котлета из курицы, 088 гр.</td>\n",
       "      <td>котлета курицы</td>\n",
       "      <td>Продукты</td>\n",
       "    </tr>\n",
       "    <tr>\n",
       "      <th>308482</th>\n",
       "      <td>308482</td>\n",
       "      <td>3ST CHOICE корм д/с средних и крупных пород 7к...</td>\n",
       "      <td>choice корм средних крупных пород курица</td>\n",
       "      <td>Зоотовары</td>\n",
       "    </tr>\n",
       "    <tr>\n",
       "      <th>547136</th>\n",
       "      <td>547136</td>\n",
       "      <td>Свитшот Acoola REP22700531</td>\n",
       "      <td>свитшот acoola rep</td>\n",
       "      <td>Детям</td>\n",
       "    </tr>\n",
       "    <tr>\n",
       "      <th>873611</th>\n",
       "      <td>873611</td>\n",
       "      <td>Жилет мужской утепленный \"Рабочий\"</td>\n",
       "      <td>жилет мужской утепленный рабочий</td>\n",
       "      <td>Одежда</td>\n",
       "    </tr>\n",
       "    <tr>\n",
       "      <th>645675</th>\n",
       "      <td>645675</td>\n",
       "      <td>КАЛЬЦИЯ ГЛЮКОНАТ Р-Р ДЛЯ В/В И В/М ВВ 765МГ/МЛ...</td>\n",
       "      <td>кальция глюконат для амп</td>\n",
       "      <td>Здоровье</td>\n",
       "    </tr>\n",
       "    <tr>\n",
       "      <th>575030</th>\n",
       "      <td>575030</td>\n",
       "      <td>CLUB7, КОЗЫРЁКСОЛНЦЕЗАЩИТНЫЙНАРЕЗИНКЕ (JQO01, ...</td>\n",
       "      <td>club козырёксолнцезащитныйнарезинке jqo</td>\n",
       "      <td>Игрушки</td>\n",
       "    </tr>\n",
       "    <tr>\n",
       "      <th>867044</th>\n",
       "      <td>867044</td>\n",
       "      <td>ШС70 (Крем д/обуви ДАМАВИК жест. банка черный ...</td>\n",
       "      <td>крем обуви дамавик жест банка черный</td>\n",
       "      <td>Красота</td>\n",
       "    </tr>\n",
       "    <tr>\n",
       "      <th>811570</th>\n",
       "      <td>811570</td>\n",
       "      <td>4646309909833 Футболка жен. Принт</td>\n",
       "      <td>футболка жен принт</td>\n",
       "      <td>Детям</td>\n",
       "    </tr>\n",
       "    <tr>\n",
       "      <th>194542</th>\n",
       "      <td>194542</td>\n",
       "      <td>ГОРШОК ОБРУЧ №7 ГЛЯНЕЦ БЕЖ (8,8л)</td>\n",
       "      <td>горшок обруч глянец беж</td>\n",
       "      <td>Сад и дача</td>\n",
       "    </tr>\n",
       "    <tr>\n",
       "      <th>786305</th>\n",
       "      <td>786305</td>\n",
       "      <td>Сельдь ф/кусочки в майонез. заливке 321 гр Мар...</td>\n",
       "      <td>сельдь кусочки майонез заливке марти</td>\n",
       "      <td>Продукты</td>\n",
       "    </tr>\n",
       "  </tbody>\n",
       "</table>\n",
       "</div>"
      ],
      "text/plain": [
       "            id                                               name  \\\n",
       "965619  965619                    (БЛ) Котлета из курицы, 088 гр.   \n",
       "308482  308482  3ST CHOICE корм д/с средних и крупных пород 7к...   \n",
       "547136  547136                         Свитшот Acoola REP22700531   \n",
       "873611  873611                 Жилет мужской утепленный \"Рабочий\"   \n",
       "645675  645675  КАЛЬЦИЯ ГЛЮКОНАТ Р-Р ДЛЯ В/В И В/М ВВ 765МГ/МЛ...   \n",
       "575030  575030  CLUB7, КОЗЫРЁКСОЛНЦЕЗАЩИТНЫЙНАРЕЗИНКЕ (JQO01, ...   \n",
       "867044  867044  ШС70 (Крем д/обуви ДАМАВИК жест. банка черный ...   \n",
       "811570  811570                 4646309909833 Футболка жен. Принт    \n",
       "194542  194542                  ГОРШОК ОБРУЧ №7 ГЛЯНЕЦ БЕЖ (8,8л)   \n",
       "786305  786305  Сельдь ф/кусочки в майонез. заливке 321 гр Мар...   \n",
       "\n",
       "                                          name_c        pred  \n",
       "965619                            котлета курицы    Продукты  \n",
       "308482  choice корм средних крупных пород курица   Зоотовары  \n",
       "547136                        свитшот acoola rep       Детям  \n",
       "873611          жилет мужской утепленный рабочий      Одежда  \n",
       "645675                  кальция глюконат для амп    Здоровье  \n",
       "575030   club козырёксолнцезащитныйнарезинке jqo     Игрушки  \n",
       "867044      крем обуви дамавик жест банка черный     Красота  \n",
       "811570                        футболка жен принт       Детям  \n",
       "194542                   горшок обруч глянец беж  Сад и дача  \n",
       "786305      сельдь кусочки майонез заливке марти    Продукты  "
      ]
     },
     "execution_count": 21,
     "metadata": {},
     "output_type": "execute_result"
    }
   ],
   "source": [
    "# Выполним субъективную оценки модели\n",
    "tdf = df.sample(10)\n",
    "tdf['name_c'] = tdf['name'].str.lower()\n",
    "tdf['name_c'] = tdf['name_c'].str.replace('[^a-zа-яё]+', ' ', regex=True, flags=re.IGNORECASE)\n",
    "tdf['name_c'] = tdf['name_c'].str.replace(r'\\b[a-zа-яё]{,2}\\b', '', regex=True, flags=re.IGNORECASE)\n",
    "tdf['name_c'] = tdf['name_c'].str.replace(' {2,}', ' ', regex=True, flags=re.IGNORECASE)\n",
    "tdf['name_c'] = tdf['name_c'].str.strip()\n",
    "tdf['pred'] = model.predict([*tdf['name_c']])[0]\n",
    "tdf['pred'] = tdf['pred'].str[0].str.replace('__label__', '').astype('int').map(mapper_)\n",
    "tdf"
   ]
  },
  {
   "cell_type": "markdown",
   "id": "71d201d9-17ad-4d5c-9dce-5a53ed2875e3",
   "metadata": {},
   "source": [
    "#### Вывод: и так сойдет."
   ]
  },
  {
   "cell_type": "code",
   "execution_count": null,
   "id": "f1d78efd-0011-469b-a212-b1029d6fe8d1",
   "metadata": {},
   "outputs": [],
   "source": []
  },
  {
   "cell_type": "code",
   "execution_count": null,
   "id": "a61d0e7a-2509-4dba-8814-7b398286be59",
   "metadata": {},
   "outputs": [],
   "source": []
  }
 ],
 "metadata": {
  "kernelspec": {
   "display_name": "Python 3 (ipykernel)",
   "language": "python",
   "name": "python3"
  },
  "language_info": {
   "codemirror_mode": {
    "name": "ipython",
    "version": 3
   },
   "file_extension": ".py",
   "mimetype": "text/x-python",
   "name": "python",
   "nbconvert_exporter": "python",
   "pygments_lexer": "ipython3",
   "version": "3.10.12"
  }
 },
 "nbformat": 4,
 "nbformat_minor": 5
}
